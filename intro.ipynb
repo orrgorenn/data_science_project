{
 "cells": [
  {
   "cell_type": "markdown",
   "metadata": {},
   "source": [
    "## Research Hypothesis"
   ]
  },
  {
   "cell_type": "markdown",
   "metadata": {},
   "source": [
    "**Hypothesis:** We want to test if we can predict the location (specific location) of a tsunami based on several criteria, e.g:\n",
    "- Date\n",
    "- Earthquake Magnitude\n",
    "- Country\n",
    "- Water Height\n",
    "- etc."
   ]
  },
  {
   "cell_type": "markdown",
   "metadata": {},
   "source": [
    "## Default imports"
   ]
  },
  {
   "cell_type": "code",
   "execution_count": 6,
   "metadata": {},
   "outputs": [],
   "source": [
    "import os\n",
    "import pandas as pd\n",
    "\n",
    "# from bs4 import BeautifulSoup\n",
    "\n",
    "from selenium import webdriver\n",
    "from webdriver_manager.chrome import ChromeDriverManager\n",
    "from selenium.webdriver.support.ui import WebDriverWait\n",
    "from selenium.webdriver.support import expected_conditions as ec\n",
    "from selenium.webdriver.common.by import By\n",
    "from selenium.common.exceptions import TimeoutException\n",
    "\n",
    "import seaborn as sns\n",
    "\n",
    "from sklearn.neighbors import KNeighborsClassifier\n",
    "from sklearn import metrics\n",
    "from sklearn.model_selection import train_test_split\n",
    "from sklearn import preprocessing\n",
    "\n",
    "import matplotlib.pyplot as plt\n",
    "%matplotlib inline  \n",
    "plt.rcParams['figure.figsize'] = (10, 6)"
   ]
  },
  {
   "cell_type": "markdown",
   "metadata": {},
   "source": [
    "## Crawling and fetching data from external website"
   ]
  },
  {
   "cell_type": "markdown",
   "metadata": {},
   "source": [
    "We will configure webdriver (Selenium) with headless option to crawl to ```ngdc.noaa.gov``` and collect out relevant data.<br>\n",
    "The website loades tables in a weird manner, it only renders the rows and columns that fit the screen (even in the code),<br>\n",
    "so an alternative I picked was to click dynamically on a button that downloads a ```.tsv``` file locally.\n",
    "\n",
    "We verify that there are no other ```.tsv``` files in the local directory and if there are we remove them and then downloading the update file."
   ]
  },
  {
   "cell_type": "code",
   "execution_count": 7,
   "metadata": {},
   "outputs": [
    {
     "name": "stdout",
     "output_type": "stream",
     "text": [
      "\n"
     ]
    },
    {
     "name": "stderr",
     "output_type": "stream",
     "text": [
      "[WDM] - ====== WebDriver manager ======\n",
      "[WDM] - Current google-chrome version is 102.0.5005\n",
      "[WDM] - Get LATEST chromedriver version for 102.0.5005 google-chrome\n",
      "[WDM] - Driver [/Users/orrgoren/.wdm/drivers/chromedriver/mac64_m1/102.0.5005.61/chromedriver] found in cache\n",
      "/var/folders/27/lh1n32415qgg2sysk9tssv580000gq/T/ipykernel_30191/554252747.py:7: DeprecationWarning: executable_path has been deprecated, please pass in a Service object\n",
      "  browser = webdriver.Chrome(ChromeDriverManager().install(), options=options)\n"
     ]
    }
   ],
   "source": [
    "options = webdriver.ChromeOptions()\n",
    "options.add_argument('--headless')\n",
    "\n",
    "# Max = 2022, Min = 1992 (Last 30 years)\n",
    "crawl_url = \"https://www.ngdc.noaa.gov/hazel/view/hazards/tsunami/event-data?maxYear=2022&minYear=1992\"\n",
    "\n",
    "browser = webdriver.Chrome(ChromeDriverManager().install(), options=options)\n",
    "try:\n",
    "  files = os.scandir('./')\n",
    "  for file in files:\n",
    "    if file.is_file() and file.name.endswith('.tsv'):\n",
    "      os.remove(file)\n",
    "\n",
    "  browser.get(crawl_url)\n",
    "  timeout = 20\n",
    "  WebDriverWait(browser, timeout).until(ec.presence_of_element_located((By.CLASS_NAME, 'haz-grid')))\n",
    "  button = browser.find_element(by=By.CLASS_NAME, value='fa-file-download')\n",
    "  button.click()\n",
    "except TimeoutException:\n",
    "  print(\"Can't handle...\")\n",
    "\n",
    "# Couldn't make if to work because of the explanation above:\n",
    "\n",
    "# titles = []\n",
    "# data = []\n",
    "\n",
    "# crawl_soup = BeautifulSoup(browser.page_source, 'html.parser')\n",
    "# soup_rows = crawl_soup.find('div', {'class': 'haz-grid'})\n",
    "# children = soup_rows.findAll('div', recursive=False)\n",
    "# inner = children[1].find('div', recursive=False)\n",
    "# sec_inner = inner.findAll('div', recursive=False)\n",
    "# soup_column_names_e = sec_inner[0].find('div', recurise=False)\n",
    "# soup_column_names_e2 = soup_column_names_e[0].find('div', recurise=False)\n",
    "# soup_column_names_div = soup_column_names_e2.find('div', recurise=False)\n",
    "# soup_data_rows = sec_inner[1]\n",
    "\n",
    "# for div in soup_column_names_div:\n",
    "#   inner_div = div.find('div', recursive=False)\n",
    "#   second_div = inner_div.find('div', recursive=False)\n",
    "#   titles.append(second_div.text)"
   ]
  },
  {
   "cell_type": "markdown",
   "metadata": {},
   "source": [
    "## Create the DataFrame"
   ]
  },
  {
   "cell_type": "markdown",
   "metadata": {},
   "source": [
    "I'm validating that we have a local ```.tsv``` file and we convert it to a DataFrame.<br>\n",
    "I remove the first row and first column that are useless to our data.<br>\n",
    "I save an instance of the original DataFrame so I can use it later."
   ]
  },
  {
   "cell_type": "code",
   "execution_count": 8,
   "metadata": {},
   "outputs": [],
   "source": [
    "f_name = ''\n",
    "path = './'\n",
    "obj = os.scandir(path);\n",
    "\n",
    "for entry in obj:\n",
    "  if entry.is_file() and entry.name.endswith('.tsv'):\n",
    "    f_name = entry.name\n",
    "\n",
    "df = pd.read_csv(f_name, delimiter=\"\\t\")\n",
    "df = df.iloc[: , 1:] # Remove first column\n",
    "df = df.iloc[1: , :] # Remove first row\n",
    "\n",
    "original_df = df.copy()"
   ]
  },
  {
   "cell_type": "markdown",
   "metadata": {},
   "source": [
    "## Cleaning The Data recieved"
   ]
  },
  {
   "cell_type": "markdown",
   "metadata": {},
   "source": [
    "I'm dropping the useless columns, those with a lot of null values or duplicate data, for example:<br>\n",
    "Total Death and Death are equal with their values.<br>\n",
    "I stated that I want columns with atleast 400 values inside and not less."
   ]
  },
  {
   "cell_type": "code",
   "execution_count": 9,
   "metadata": {},
   "outputs": [],
   "source": [
    "to_drop = ['Vol',\n",
    "          'More Info',\n",
    "          'Deposits',\n",
    "          'Number of Runups',\n",
    "          'Tsunami Magnitude (Abe)',\n",
    "          'Tsunami Magnitude (Iida)',\n",
    "          'Tsunami Intensity',\n",
    "          'Houses Destroyed Description',\n",
    "          'Damage Description',\n",
    "          'Injuries Description',\n",
    "          'Missing Description',\n",
    "          'Location Name',\n",
    "          'Death Description',\n",
    "          'Total Death Description',\n",
    "          'Total Missing Description',\n",
    "          'Total Injuries Description',\n",
    "          'Total Damage Description',\n",
    "          'Total Houses Destroyed Description',\n",
    "          'Total Houses Damaged Description',\n",
    "          'Houses Damaged Description',\n",
    "          'Damage ($Mil)',\n",
    "          'Deaths',\n",
    "          'Missing',\n",
    "          'Injuries',\n",
    "          'Houses Destroyed',\n",
    "          'Houses Damaged',\n",
    "          'Total Missing',\n",
    "          'Total Damage ($Mil)',\n",
    "          'Total Houses Destroyed',\n",
    "          'Total Houses Damaged']\n",
    "\n",
    "# Drop not relevant columns\n",
    "df.drop(to_drop, inplace=True, axis=0, errors='ignore')\n",
    "# Drop duplicate rows\n",
    "df.drop_duplicates()\n",
    "# Remove nulls and Fill 0\n",
    "df.dropna(axis=1, thresh=300, inplace=True)\n",
    "df.fillna(0, inplace=True)"
   ]
  },
  {
   "cell_type": "markdown",
   "metadata": {},
   "source": [
    "## EDA"
   ]
  },
  {
   "cell_type": "markdown",
   "metadata": {},
   "source": [
    "The first chart is showing us the number of tsunami's divided by the countries."
   ]
  },
  {
   "cell_type": "markdown",
   "metadata": {},
   "source": [
    "#### Country vs. Tsunami"
   ]
  },
  {
   "cell_type": "code",
   "execution_count": 10,
   "metadata": {},
   "outputs": [
    {
     "data": {
      "image/png": "[encoded data removed]",
      "text/plain": [
       "<Figure size 864x1728 with 1 Axes>"
      ]
     },
     "metadata": {
      "needs_background": "light"
     },
     "output_type": "display_data"
    }
   ],
   "source": [
    "plt.figure(figsize=(12,24))\n",
    "countries = df[\"Country\"].value_counts().keys().tolist()\n",
    "ax = sns.countplot(y=\"Country\", data = df, order = df[\"Country\"].value_counts().index)\n",
    "ax.set_xscale(\"log\")\n",
    "ax.axes.set_title(\"Country vs. # Tsunamis\", fontsize = 14)\n",
    "ax.set_xlabel(\"Number of Tsunamis\", fontsize = 14)\n",
    "ax.set_ylabel(\"Country\", fontsize = 14)\n",
    "ax.tick_params(labelsize = 12)\n",
    "ax.set_yticklabels(countries, rotation = 0, fontsize = 12)\n",
    "plt.tight_layout()\n",
    "plt.show()"
   ]
  },
  {
   "cell_type": "markdown",
   "metadata": {},
   "source": [
    "### Earthquake Magnitude vs. Tsunami"
   ]
  },
  {
   "cell_type": "markdown",
   "metadata": {},
   "source": [
    "The following chart is showing us the # of tsunami's vs the earthquake magnitude."
   ]
  },
  {
   "cell_type": "code",
   "execution_count": 11,
   "metadata": {},
   "outputs": [
    {
     "data": {
      "image/png": "[encoded data removed]",
      "text/plain": [
       "<Figure size 576x432 with 1 Axes>"
      ]
     },
     "metadata": {
      "needs_background": "light"
     },
     "output_type": "display_data"
    }
   ],
   "source": [
    "plt.figure(figsize=(8,6))\n",
    "ax = sns.histplot(original_df[\"Earthquake Magnitude\"], kde = False)\n",
    "ax.axes.set_title(\"Earthquake Magnitude vs. # Tsunamis\", fontsize=18)\n",
    "ax.set_xlabel(\"Earthquake Magnitude\", fontsize=16)\n",
    "ax.set_ylabel(\"# Tsunamis\", fontsize=16)\n",
    "ax.tick_params(labelsize = 12)\n",
    "plt.tight_layout()\n",
    "plt.show()"
   ]
  },
  {
   "cell_type": "markdown",
   "metadata": {},
   "source": [
    "## Advanced Data Analysis"
   ]
  },
  {
   "cell_type": "markdown",
   "metadata": {},
   "source": [
    "I chose the KNN Algorithm because we are dealing with a classification problem, **regression** to be exact."
   ]
  },
  {
   "cell_type": "markdown",
   "metadata": {},
   "source": [
    "### KNN"
   ]
  },
  {
   "cell_type": "code",
   "execution_count": 13,
   "metadata": {},
   "outputs": [],
   "source": [
    "df['CountryNew'] = preprocessing.LabelEncoder().fit_transform(df.Country)\n",
    "df['Location Name'] = preprocessing.LabelEncoder().fit_transform(df['Location Name'])\n",
    "\n",
    "X = df.loc[:, ~df.columns.isin(['Country', 'Location Name'])]\n",
    "y = df['Country']\n",
    "\n",
    "XTrain, XTest, yTrain, yTest = train_test_split(X, y, random_state=1, test_size=0.2)\n",
    "\n",
    "k = 5\n",
    "clf = KNeighborsClassifier(n_neighbors = k)\n",
    "clf.fit(XTrain, yTrain)\n",
    "y_pred = clf.predict(XTest)"
   ]
  },
  {
   "cell_type": "markdown",
   "metadata": {},
   "source": [
    "### Confusion Matrix"
   ]
  },
  {
   "cell_type": "code",
   "execution_count": 14,
   "metadata": {},
   "outputs": [
    {
     "data": {
      "text/plain": [
       "array([[0, 0, 0, ..., 0, 0, 0],\n",
       "       [0, 0, 0, ..., 0, 0, 0],\n",
       "       [0, 0, 0, ..., 0, 0, 0],\n",
       "       ...,\n",
       "       [0, 0, 0, ..., 7, 0, 0],\n",
       "       [0, 0, 0, ..., 0, 0, 0],\n",
       "       [0, 0, 0, ..., 0, 0, 3]])"
      ]
     },
     "execution_count": 14,
     "metadata": {},
     "output_type": "execute_result"
    }
   ],
   "source": [
    "metrics.confusion_matrix(y_true = yTest, y_pred = y_pred)"
   ]
  },
  {
   "cell_type": "markdown",
   "metadata": {},
   "source": [
    "### Prediction Accuracy"
   ]
  },
  {
   "cell_type": "code",
   "execution_count": 15,
   "metadata": {},
   "outputs": [
    {
     "name": "stdout",
     "output_type": "stream",
     "text": [
      "Accuracy is: 54.0%\n"
     ]
    }
   ],
   "source": [
    "acc = metrics.accuracy_score(y_true = yTest, y_pred = y_pred)\n",
    "print(f'Accuracy is: {round(acc*100, 0)}%')"
   ]
  },
  {
   "cell_type": "markdown",
   "metadata": {},
   "source": [
    "### Multiple K's Testing"
   ]
  },
  {
   "cell_type": "markdown",
   "metadata": {},
   "source": [
    "We will run from ```K = 3``` until ```K = 25``` to test multiple answers and find the best ```K``` to use."
   ]
  },
  {
   "cell_type": "code",
   "execution_count": 16,
   "metadata": {},
   "outputs": [
    {
     "data": {
      "text/html": [
       "<div>\n",
       "<style scoped>\n",
       "    .dataframe tbody tr th:only-of-type {\n",
       "        vertical-align: middle;\n",
       "    }\n",
       "\n",
       "    .dataframe tbody tr th {\n",
       "        vertical-align: top;\n",
       "    }\n",
       "\n",
       "    .dataframe thead th {\n",
       "        text-align: right;\n",
       "    }\n",
       "</style>\n",
       "<table border=\"1\" class=\"dataframe\">\n",
       "  <thead>\n",
       "    <tr style=\"text-align: right;\">\n",
       "      <th></th>\n",
       "      <th>k</th>\n",
       "      <th>train_accuracy</th>\n",
       "      <th>test_accuracy</th>\n",
       "    </tr>\n",
       "  </thead>\n",
       "  <tbody>\n",
       "    <tr>\n",
       "      <th>0</th>\n",
       "      <td>3</td>\n",
       "      <td>0.810398</td>\n",
       "      <td>0.500000</td>\n",
       "    </tr>\n",
       "    <tr>\n",
       "      <th>1</th>\n",
       "      <td>4</td>\n",
       "      <td>0.752294</td>\n",
       "      <td>0.536585</td>\n",
       "    </tr>\n",
       "    <tr>\n",
       "      <th>2</th>\n",
       "      <td>5</td>\n",
       "      <td>0.727829</td>\n",
       "      <td>0.536585</td>\n",
       "    </tr>\n",
       "    <tr>\n",
       "      <th>3</th>\n",
       "      <td>6</td>\n",
       "      <td>0.730887</td>\n",
       "      <td>0.524390</td>\n",
       "    </tr>\n",
       "    <tr>\n",
       "      <th>4</th>\n",
       "      <td>7</td>\n",
       "      <td>0.694190</td>\n",
       "      <td>0.536585</td>\n",
       "    </tr>\n",
       "    <tr>\n",
       "      <th>5</th>\n",
       "      <td>8</td>\n",
       "      <td>0.669725</td>\n",
       "      <td>0.512195</td>\n",
       "    </tr>\n",
       "    <tr>\n",
       "      <th>6</th>\n",
       "      <td>9</td>\n",
       "      <td>0.642202</td>\n",
       "      <td>0.500000</td>\n",
       "    </tr>\n",
       "    <tr>\n",
       "      <th>7</th>\n",
       "      <td>10</td>\n",
       "      <td>0.626911</td>\n",
       "      <td>0.487805</td>\n",
       "    </tr>\n",
       "    <tr>\n",
       "      <th>8</th>\n",
       "      <td>11</td>\n",
       "      <td>0.636086</td>\n",
       "      <td>0.512195</td>\n",
       "    </tr>\n",
       "    <tr>\n",
       "      <th>9</th>\n",
       "      <td>12</td>\n",
       "      <td>0.623853</td>\n",
       "      <td>0.512195</td>\n",
       "    </tr>\n",
       "    <tr>\n",
       "      <th>10</th>\n",
       "      <td>13</td>\n",
       "      <td>0.602446</td>\n",
       "      <td>0.475610</td>\n",
       "    </tr>\n",
       "    <tr>\n",
       "      <th>11</th>\n",
       "      <td>14</td>\n",
       "      <td>0.590214</td>\n",
       "      <td>0.500000</td>\n",
       "    </tr>\n",
       "    <tr>\n",
       "      <th>12</th>\n",
       "      <td>15</td>\n",
       "      <td>0.590214</td>\n",
       "      <td>0.500000</td>\n",
       "    </tr>\n",
       "    <tr>\n",
       "      <th>13</th>\n",
       "      <td>16</td>\n",
       "      <td>0.584098</td>\n",
       "      <td>0.487805</td>\n",
       "    </tr>\n",
       "    <tr>\n",
       "      <th>14</th>\n",
       "      <td>17</td>\n",
       "      <td>0.568807</td>\n",
       "      <td>0.487805</td>\n",
       "    </tr>\n",
       "    <tr>\n",
       "      <th>15</th>\n",
       "      <td>18</td>\n",
       "      <td>0.562691</td>\n",
       "      <td>0.487805</td>\n",
       "    </tr>\n",
       "    <tr>\n",
       "      <th>16</th>\n",
       "      <td>19</td>\n",
       "      <td>0.562691</td>\n",
       "      <td>0.475610</td>\n",
       "    </tr>\n",
       "    <tr>\n",
       "      <th>17</th>\n",
       "      <td>20</td>\n",
       "      <td>0.577982</td>\n",
       "      <td>0.463415</td>\n",
       "    </tr>\n",
       "    <tr>\n",
       "      <th>18</th>\n",
       "      <td>21</td>\n",
       "      <td>0.574924</td>\n",
       "      <td>0.487805</td>\n",
       "    </tr>\n",
       "    <tr>\n",
       "      <th>19</th>\n",
       "      <td>22</td>\n",
       "      <td>0.538226</td>\n",
       "      <td>0.487805</td>\n",
       "    </tr>\n",
       "    <tr>\n",
       "      <th>20</th>\n",
       "      <td>23</td>\n",
       "      <td>0.541284</td>\n",
       "      <td>0.475610</td>\n",
       "    </tr>\n",
       "    <tr>\n",
       "      <th>21</th>\n",
       "      <td>24</td>\n",
       "      <td>0.535168</td>\n",
       "      <td>0.451220</td>\n",
       "    </tr>\n",
       "  </tbody>\n",
       "</table>\n",
       "</div>"
      ],
      "text/plain": [
       "     k  train_accuracy  test_accuracy\n",
       "0    3        0.810398       0.500000\n",
       "1    4        0.752294       0.536585\n",
       "2    5        0.727829       0.536585\n",
       "3    6        0.730887       0.524390\n",
       "4    7        0.694190       0.536585\n",
       "5    8        0.669725       0.512195\n",
       "6    9        0.642202       0.500000\n",
       "7   10        0.626911       0.487805\n",
       "8   11        0.636086       0.512195\n",
       "9   12        0.623853       0.512195\n",
       "10  13        0.602446       0.475610\n",
       "11  14        0.590214       0.500000\n",
       "12  15        0.590214       0.500000\n",
       "13  16        0.584098       0.487805\n",
       "14  17        0.568807       0.487805\n",
       "15  18        0.562691       0.487805\n",
       "16  19        0.562691       0.475610\n",
       "17  20        0.577982       0.463415\n",
       "18  21        0.574924       0.487805\n",
       "19  22        0.538226       0.487805\n",
       "20  23        0.541284       0.475610\n",
       "21  24        0.535168       0.451220"
      ]
     },
     "execution_count": 16,
     "metadata": {},
     "output_type": "execute_result"
    }
   ],
   "source": [
    "k_list = []\n",
    "train_accuracies = []\n",
    "test_accuracies = []\n",
    "for k in range(3, 25):\n",
    "    clf = KNeighborsClassifier(n_neighbors=k)\n",
    "    clf.fit(XTrain, yTrain)\n",
    "    y_pred_train = clf.predict(XTrain)\n",
    "    y_pred = clf.predict(XTest)\n",
    "    k_list.append(k)\n",
    "    train_accuracies.append(metrics.accuracy_score(y_true = yTrain, y_pred = y_pred_train))\n",
    "    test_accuracies.append(metrics.accuracy_score(y_true = yTest, y_pred = y_pred))\n",
    "\n",
    "df_k = pd.DataFrame({ \"k\": k_list, \"train_accuracy\": train_accuracies, \"test_accuracy\": test_accuracies })\n",
    "df_k"
   ]
  },
  {
   "cell_type": "markdown",
   "metadata": {},
   "source": [
    "Taking in account we only take odd KNN's, we can see that the best K for the test is = **5**."
   ]
  },
  {
   "cell_type": "markdown",
   "metadata": {},
   "source": [
    "### Conclusion"
   ]
  },
  {
   "cell_type": "markdown",
   "metadata": {},
   "source": [
    "As seen above, the best accuracy percent is ```54%```.<br>\n",
    "Altough this is more than 50%, percentage below ```80% - 85%``` is found ineffective in determing an accurate distinction.<br>\n",
    "\n",
    "According to all of the data that been gathered and the test made, we still don't have enough information to distinct a specific location by those criteria."
   ]
  }
 ],
 "metadata": {
  "kernelspec": {
   "display_name": "Python 3.8.9 64-bit",
   "language": "python",
   "name": "python3"
  },
  "language_info": {
   "codemirror_mode": {
    "name": "ipython",
    "version": 3
   },
   "file_extension": ".py",
   "mimetype": "text/x-python",
   "name": "python",
   "nbconvert_exporter": "python",
   "pygments_lexer": "ipython3",
   "version": "3.8.9"
  },
  "orig_nbformat": 4,
  "vscode": {
   "interpreter": {
    "hash": "31f2aee4e71d21fbe5cf8b01ff0e069b9275f58929596ceb00d14d90e3e16cd6"
   }
  }
 },
 "nbformat": 4,
 "nbformat_minor": 2
}
