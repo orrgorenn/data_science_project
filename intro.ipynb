{
 "cells": [
  {
   "cell_type": "markdown",
   "metadata": {},
   "source": [
    "## Research Hypothesis"
   ]
  },
  {
   "cell_type": "markdown",
   "metadata": {},
   "source": [
    "**Hypothesis:** We want to test if we can predict the location (specific location) of a tsunami based on several criteria, e.g:\n",
    "- Date\n",
    "- Earthquake Magnitude\n",
    "- Country\n",
    "- Water Height\n",
    "- etc."
   ]
  },
  {
   "cell_type": "markdown",
   "metadata": {},
   "source": [
    "## Default imports"
   ]
  },
  {
   "cell_type": "code",
   "execution_count": 2,
   "metadata": {},
   "outputs": [],
   "source": [
    "import os\n",
    "import pandas as pd\n",
    "\n",
    "# from bs4 import BeautifulSoup\n",
    "\n",
    "from selenium import webdriver\n",
    "from webdriver_manager.chrome import ChromeDriverManager\n",
    "from selenium.webdriver.support.ui import WebDriverWait\n",
    "from selenium.webdriver.support import expected_conditions as ec\n",
    "from selenium.webdriver.common.by import By\n",
    "from selenium.common.exceptions import TimeoutException\n",
    "\n",
    "import seaborn as sns\n",
    "\n",
    "from sklearn import svm\n",
    "from sklearn import metrics\n",
    "from sklearn.model_selection import train_test_split\n",
    "from sklearn import preprocessing\n",
    "\n",
    "import matplotlib.pyplot as plt\n",
    "%matplotlib inline  \n",
    "plt.rcParams['figure.figsize'] = (10, 6)"
   ]
  },
  {
   "cell_type": "markdown",
   "metadata": {},
   "source": [
    "## Crawling and fetching data from external website"
   ]
  },
  {
   "cell_type": "markdown",
   "metadata": {},
   "source": [
    "We will configure webdriver (Selenium) with headless option to crawl to ```ngdc.noaa.gov``` and collect out relevant data.<br>\n",
    "The website loades tables in a weird manner, it only renders the rows and columns that fit the screen (even in the code),<br>\n",
    "so an alternative I picked was to click dynamically on a button that downloads a ```.tsv``` file locally.\n",
    "\n",
    "We verify that there are no other ```.tsv``` files in the local directory and if there are we remove them and then downloading the update file."
   ]
  },
  {
   "cell_type": "code",
   "execution_count": 7,
   "metadata": {},
   "outputs": [
    {
     "name": "stdout",
     "output_type": "stream",
     "text": [
      "\n"
     ]
    },
    {
     "name": "stderr",
     "output_type": "stream",
     "text": [
      "[WDM] - ====== WebDriver manager ======\n",
      "[WDM] - Current google-chrome version is 102.0.5005\n",
      "[WDM] - Get LATEST chromedriver version for 102.0.5005 google-chrome\n",
      "[WDM] - Driver [/Users/orrgoren/.wdm/drivers/chromedriver/mac64_m1/102.0.5005.61/chromedriver] found in cache\n",
      "/var/folders/27/lh1n32415qgg2sysk9tssv580000gq/T/ipykernel_30191/554252747.py:7: DeprecationWarning: executable_path has been deprecated, please pass in a Service object\n",
      "  browser = webdriver.Chrome(ChromeDriverManager().install(), options=options)\n"
     ]
    }
   ],
   "source": [
    "options = webdriver.ChromeOptions()\n",
    "options.add_argument('--headless')\n",
    "\n",
    "# Max = 2022, Min = 1992 (Last 30 years)\n",
    "crawl_url = \"https://www.ngdc.noaa.gov/hazel/view/hazards/tsunami/event-data?maxYear=2022&minYear=1992\"\n",
    "\n",
    "browser = webdriver.Chrome(ChromeDriverManager().install(), options=options)\n",
    "try:\n",
    "  files = os.scandir('./')\n",
    "  for file in files:\n",
    "    if file.is_file() and file.name.endswith('.tsv'):\n",
    "      os.remove(file)\n",
    "\n",
    "  browser.get(crawl_url)\n",
    "  timeout = 20\n",
    "  WebDriverWait(browser, timeout).until(ec.presence_of_element_located((By.CLASS_NAME, 'haz-grid')))\n",
    "  button = browser.find_element(by=By.CLASS_NAME, value='fa-file-download')\n",
    "  button.click()\n",
    "except TimeoutException:\n",
    "  print(\"Can't handle...\")\n",
    "\n",
    "# Couldn't make if to work because of the explanation above:\n",
    "\n",
    "# titles = []\n",
    "# data = []\n",
    "\n",
    "# crawl_soup = BeautifulSoup(browser.page_source, 'html.parser')\n",
    "# soup_rows = crawl_soup.find('div', {'class': 'haz-grid'})\n",
    "# children = soup_rows.findAll('div', recursive=False)\n",
    "# inner = children[1].find('div', recursive=False)\n",
    "# sec_inner = inner.findAll('div', recursive=False)\n",
    "# soup_column_names_e = sec_inner[0].find('div', recurise=False)\n",
    "# soup_column_names_e2 = soup_column_names_e[0].find('div', recurise=False)\n",
    "# soup_column_names_div = soup_column_names_e2.find('div', recurise=False)\n",
    "# soup_data_rows = sec_inner[1]\n",
    "\n",
    "# for div in soup_column_names_div:\n",
    "#   inner_div = div.find('div', recursive=False)\n",
    "#   second_div = inner_div.find('div', recursive=False)\n",
    "#   titles.append(second_div.text)"
   ]
  },
  {
   "cell_type": "markdown",
   "metadata": {},
   "source": [
    "## Create the DataFrame"
   ]
  },
  {
   "cell_type": "markdown",
   "metadata": {},
   "source": [
    "I'm validating that we have a local ```.tsv``` file and we convert it to a DataFrame.<br>\n",
    "I remove the first row and first column that are useless to our data.<br>\n",
    "I save an instance of the original DataFrame so I can use it later."
   ]
  },
  {
   "cell_type": "code",
   "execution_count": 22,
   "metadata": {},
   "outputs": [],
   "source": [
    "f_name = ''\n",
    "path = './'\n",
    "obj = os.scandir(path);\n",
    "\n",
    "for entry in obj:\n",
    "  if entry.is_file() and entry.name.endswith('.tsv'):\n",
    "    f_name = entry.name\n",
    "\n",
    "df = pd.read_csv(f_name, delimiter=\"\\t\")\n",
    "df = df.iloc[: , 1:] # Remove first column\n",
    "df = df.iloc[1: , :] # Remove first row"
   ]
  },
  {
   "cell_type": "code",
   "execution_count": 23,
   "metadata": {},
   "outputs": [
    {
     "name": "stdout",
     "output_type": "stream",
     "text": [
      "<class 'pandas.core.frame.DataFrame'>\n",
      "RangeIndex: 409 entries, 1 to 409\n",
      "Data columns (total 45 columns):\n",
      " #   Column                              Non-Null Count  Dtype  \n",
      "---  ------                              --------------  -----  \n",
      " 0   Year                                409 non-null    float64\n",
      " 1   Mo                                  407 non-null    float64\n",
      " 2   Dy                                  407 non-null    float64\n",
      " 3   Hr                                  357 non-null    float64\n",
      " 4   Mn                                  355 non-null    float64\n",
      " 5   Sec                                 334 non-null    float64\n",
      " 6   Tsunami Event Validity              409 non-null    float64\n",
      " 7   Tsunami Cause Code                  409 non-null    float64\n",
      " 8   Earthquake Magnitude                327 non-null    float64\n",
      " 9   Vol                                 23 non-null     float64\n",
      " 10  More Info                           0 non-null      float64\n",
      " 11  Deposits                            409 non-null    float64\n",
      " 12  Country                             409 non-null    object \n",
      " 13  Location Name                       409 non-null    object \n",
      " 14  Latitude                            390 non-null    float64\n",
      " 15  Longitude                           390 non-null    float64\n",
      " 16  Maximum Water Height (m)            370 non-null    float64\n",
      " 17  Number of Runups                    409 non-null    float64\n",
      " 18  Tsunami Magnitude (Abe)             1 non-null      float64\n",
      " 19  Tsunami Magnitude (Iida)            56 non-null     float64\n",
      " 20  Tsunami Intensity                   59 non-null     float64\n",
      " 21  Deaths                              47 non-null     float64\n",
      " 22  Death Description                   47 non-null     float64\n",
      " 23  Missing                             3 non-null      float64\n",
      " 24  Missing Description                 3 non-null      float64\n",
      " 25  Injuries                            32 non-null     float64\n",
      " 26  Injuries Description                36 non-null     float64\n",
      " 27  Damage ($Mil)                       23 non-null     float64\n",
      " 28  Damage Description                  107 non-null    float64\n",
      " 29  Houses Destroyed                    26 non-null     float64\n",
      " 30  Houses Destroyed Description        44 non-null     float64\n",
      " 31  Houses Damaged                      10 non-null     float64\n",
      " 32  Houses Damaged Description          22 non-null     float64\n",
      " 33  Total Deaths                        124 non-null    float64\n",
      " 34  Total Death Description             124 non-null    float64\n",
      " 35  Total Missing                       7 non-null      float64\n",
      " 36  Total Missing Description           7 non-null      float64\n",
      " 37  Total Injuries                      128 non-null    float64\n",
      " 38  Total Injuries Description          138 non-null    float64\n",
      " 39  Total Damage ($Mil)                 63 non-null     float64\n",
      " 40  Total Damage Description            206 non-null    float64\n",
      " 41  Total Houses Destroyed              69 non-null     float64\n",
      " 42  Total Houses Destroyed Description  96 non-null     float64\n",
      " 43  Total Houses Damaged                56 non-null     float64\n",
      " 44  Total Houses Damaged Description    92 non-null     float64\n",
      "dtypes: float64(43), object(2)\n",
      "memory usage: 143.9+ KB\n"
     ]
    }
   ],
   "source": [
    "df.info()"
   ]
  },
  {
   "cell_type": "markdown",
   "metadata": {},
   "source": [
    "## Cleaning The Data recieved"
   ]
  },
  {
   "cell_type": "markdown",
   "metadata": {},
   "source": [
    "I'm dropping the useless columns, those with a lot of null values or duplicate data, for example:<br>\n",
    "Total Death and Death are equal with their values.<br>\n",
    "I stated that I want columns with atleast 300 values inside and not less."
   ]
  },
  {
   "cell_type": "code",
   "execution_count": 24,
   "metadata": {},
   "outputs": [],
   "source": [
    "# Remove Duplicates\n",
    "df.drop_duplicates()\n",
    "# Remove nulls\n",
    "df.dropna(axis=1, thresh=300, inplace=True)\n",
    "# Fulling 0 because null's are irrelevant for us\n",
    "df.fillna(0, inplace=True)"
   ]
  },
  {
   "cell_type": "markdown",
   "metadata": {},
   "source": [
    "After cleaning we work with around **6,500** values."
   ]
  },
  {
   "cell_type": "code",
   "execution_count": 17,
   "metadata": {},
   "outputs": [
    {
     "name": "stdout",
     "output_type": "stream",
     "text": [
      "<class 'pandas.core.frame.DataFrame'>\n",
      "RangeIndex: 409 entries, 1 to 409\n",
      "Data columns (total 16 columns):\n",
      " #   Column                    Non-Null Count  Dtype  \n",
      "---  ------                    --------------  -----  \n",
      " 0   Year                      409 non-null    float64\n",
      " 1   Mo                        409 non-null    float64\n",
      " 2   Dy                        409 non-null    float64\n",
      " 3   Hr                        409 non-null    float64\n",
      " 4   Mn                        409 non-null    float64\n",
      " 5   Sec                       409 non-null    float64\n",
      " 6   Tsunami Event Validity    409 non-null    float64\n",
      " 7   Tsunami Cause Code        409 non-null    float64\n",
      " 8   Earthquake Magnitude      409 non-null    float64\n",
      " 9   Deposits                  409 non-null    float64\n",
      " 10  Country                   409 non-null    object \n",
      " 11  Location Name             409 non-null    object \n",
      " 12  Latitude                  409 non-null    float64\n",
      " 13  Longitude                 409 non-null    float64\n",
      " 14  Maximum Water Height (m)  409 non-null    float64\n",
      " 15  Number of Runups          409 non-null    float64\n",
      "dtypes: float64(14), object(2)\n",
      "memory usage: 51.3+ KB\n"
     ]
    }
   ],
   "source": [
    "df.info()"
   ]
  },
  {
   "cell_type": "markdown",
   "metadata": {},
   "source": [
    "## EDA"
   ]
  },
  {
   "cell_type": "markdown",
   "metadata": {},
   "source": [
    "The first chart is showing us the number of tsunami's divided by the countries."
   ]
  },
  {
   "cell_type": "markdown",
   "metadata": {},
   "source": [
    "#### Country vs. Tsunami"
   ]
  },
  {
   "cell_type": "code",
   "execution_count": 18,
   "metadata": {},
   "outputs": [
    {
     "data": {
      "image/png": "[encoded data removed]",
      "text/plain": [
       "<Figure size 576x864 with 1 Axes>"
      ]
     },
     "metadata": {
      "needs_background": "light"
     },
     "output_type": "display_data"
    }
   ],
   "source": [
    "plt.figure(figsize=(8,12))\n",
    "countries = df[\"Country\"].value_counts().keys().tolist()\n",
    "ax = sns.countplot(y=\"Country\", data = df, order = df[\"Country\"].value_counts().index)\n",
    "ax.set_xscale(\"log\")\n",
    "ax.axes.set_title(\"Country vs. # Tsunamis\", fontsize = 10)\n",
    "ax.set_xlabel(\"Number of Tsunamis\", fontsize = 10)\n",
    "ax.set_ylabel(\"Country\", fontsize = 10)\n",
    "ax.tick_params(labelsize = 8)\n",
    "ax.set_yticklabels(countries, rotation = 0, fontsize = 8)\n",
    "plt.tight_layout()\n",
    "plt.show()"
   ]
  },
  {
   "cell_type": "markdown",
   "metadata": {},
   "source": [
    "### Earthquake Magnitude vs. Tsunami"
   ]
  },
  {
   "cell_type": "markdown",
   "metadata": {},
   "source": [
    "The following chart is showing us the # of tsunami's vs the earthquake magnitude."
   ]
  },
  {
   "cell_type": "code",
   "execution_count": 19,
   "metadata": {},
   "outputs": [
    {
     "data": {
      "image/png": "[encoded data removed]",
      "text/plain": [
       "<Figure size 576x432 with 1 Axes>"
      ]
     },
     "metadata": {
      "needs_background": "light"
     },
     "output_type": "display_data"
    }
   ],
   "source": [
    "plt.figure(figsize=(8,6))\n",
    "ax = sns.histplot(df[\"Earthquake Magnitude\"], kde = False)\n",
    "ax.axes.set_title(\"Earthquake Magnitude vs. # Tsunamis\", fontsize=18)\n",
    "ax.set_xlabel(\"Earthquake Magnitude\", fontsize=16)\n",
    "ax.set_ylabel(\"# Tsunamis\", fontsize=16)\n",
    "ax.tick_params(labelsize = 12)\n",
    "plt.tight_layout()\n",
    "plt.show()"
   ]
  },
  {
   "cell_type": "markdown",
   "metadata": {},
   "source": [
    "#### **EDA Conclusions**"
   ]
  },
  {
   "cell_type": "markdown",
   "metadata": {},
   "source": [
    "After we look at the EDA's, we can see the diversity of the data according to the large number of countires in the dataset.<br>\n",
    "Moreover, we can see that the label 'Earthquake Magnitude' suggest that most of the Tsunami's caused by a **6.5 - 7.5** magnitude."
   ]
  },
  {
   "cell_type": "markdown",
   "metadata": {},
   "source": [
    "## Advanced Data Analysis"
   ]
  },
  {
   "cell_type": "markdown",
   "metadata": {},
   "source": [
    "I chose the SVM slgorithm because we are dealing with a classification problem, **regression** to be exact.<br>\n",
    "The SVM slgorithm in comparison to Naive Bayes offers good accuracy and faster prediction."
   ]
  },
  {
   "cell_type": "markdown",
   "metadata": {},
   "source": [
    "### SVM - Support Vector Machines (Linear Kernel)"
   ]
  },
  {
   "cell_type": "code",
   "execution_count": 20,
   "metadata": {},
   "outputs": [],
   "source": [
    "df['CountryNew'] = preprocessing.LabelEncoder().fit_transform(df.Country)\n",
    "df['Location Name'] = preprocessing.LabelEncoder().fit_transform(df['Location Name'])\n",
    "\n",
    "X = df.loc[:, ~df.columns.isin(['Country', 'Location Name', 'CountryNew'])]\n",
    "y = df['CountryNew']\n",
    "\n",
    "# Split to train and test\n",
    "X_train, X_test, y_train, y_test = train_test_split(X, y, random_state=10, test_size=0.3)\n",
    "\n",
    "clf = svm.SVC(kernel='linear')\n",
    "clf.fit(X_train, y_train);\n",
    "y_pred = clf.predict(X_test)"
   ]
  },
  {
   "cell_type": "markdown",
   "metadata": {},
   "source": [
    "### Prediction Accuracy"
   ]
  },
  {
   "cell_type": "markdown",
   "metadata": {},
   "source": [
    "In this section we will test out the accuracy and the precision of our chosen model (SVM)."
   ]
  },
  {
   "cell_type": "code",
   "execution_count": 21,
   "metadata": {},
   "outputs": [
    {
     "name": "stdout",
     "output_type": "stream",
     "text": [
      "Accuracy is: 60.16%\n",
      "Precision is: 64.21%\n"
     ]
    }
   ],
   "source": [
    "acc = metrics.accuracy_score(y_true = y_test, y_pred = y_pred)\n",
    "print(f'Accuracy is: {round(acc*100, 2)}%')\n",
    "\n",
    "prec = metrics.precision_score(y_test, y_pred, average='weighted', zero_division=0)\n",
    "print(f\"Precision is: {round(prec*100, 2)}%\")"
   ]
  },
  {
   "cell_type": "markdown",
   "metadata": {},
   "source": [
    "### Conclusion"
   ]
  },
  {
   "cell_type": "markdown",
   "metadata": {},
   "source": [
    "As seen above, the accuracy is ```60.16%``` and the precision rate is ```64.21%```.<br>\n",
    "Altough this is more than 60%, results below ```80% - 85%``` are found ineffective in determing an accurate distinction.<br>\n",
    "\n",
    "According to all of the data that have been gathered and the tests that were made, we still don't have enough information to say we can predict a specific location by those criteria given."
   ]
  }
 ],
 "metadata": {
  "kernelspec": {
   "display_name": "Python 3.8.9 64-bit",
   "language": "python",
   "name": "python3"
  },
  "language_info": {
   "codemirror_mode": {
    "name": "ipython",
    "version": 3
   },
   "file_extension": ".py",
   "mimetype": "text/x-python",
   "name": "python",
   "nbconvert_exporter": "python",
   "pygments_lexer": "ipython3",
   "version": "3.8.9"
  },
  "orig_nbformat": 4,
  "vscode": {
   "interpreter": {
    "hash": "31f2aee4e71d21fbe5cf8b01ff0e069b9275f58929596ceb00d14d90e3e16cd6"
   }
  }
 },
 "nbformat": 4,
 "nbformat_minor": 2
}
